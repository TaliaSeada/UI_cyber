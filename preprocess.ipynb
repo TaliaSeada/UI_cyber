{
 "cells": [
  {
   "cell_type": "code",
   "execution_count": 22,
   "id": "initial_id",
   "metadata": {
    "collapsed": true,
    "ExecuteTime": {
     "end_time": "2024-02-21T17:07:36.973670800Z",
     "start_time": "2024-02-21T17:07:36.921256900Z"
    }
   },
   "outputs": [],
   "source": [
    "import warnings\n",
    "# Ignore all warnings\n",
    "warnings.filterwarnings(\"ignore\")\n",
    "\n",
    "import math\n",
    "import re\n",
    "from collections import Counter\n",
    "import pandas as pd"
   ]
  },
  {
   "cell_type": "code",
   "outputs": [],
   "source": [
    "new_instance_script = 'Hey'"
   ],
   "metadata": {
    "collapsed": false,
    "ExecuteTime": {
     "end_time": "2024-02-21T17:07:36.976480200Z",
     "start_time": "2024-02-21T17:07:36.937504500Z"
    }
   },
   "id": "e1c29c1ec4b7a591",
   "execution_count": 23
  },
  {
   "cell_type": "code",
   "outputs": [],
   "source": [
    "# new_instance_script"
   ],
   "metadata": {
    "collapsed": false,
    "ExecuteTime": {
     "end_time": "2024-02-21T17:07:36.989496800Z",
     "start_time": "2024-02-21T17:07:36.952222700Z"
    }
   },
   "id": "60d08a365a14f4cc",
   "execution_count": 24
  },
  {
   "cell_type": "code",
   "outputs": [],
   "source": [
    "def clean_script(script):\n",
    "    # Remove comments from the script\n",
    "    script = re.sub(r'#.*$', ' ', script, flags=re.MULTILINE)\n",
    "    \n",
    "    # Remove special characters and reduce consecutive spaces\n",
    "    cleaned_script = re.sub(r'\\s+', ' ', script)\n",
    "    \n",
    "    # Remove tabs and newlines\n",
    "    cleaned_script = cleaned_script.replace('\\t', ' ').replace('\\n', ' ')\n",
    "    \n",
    "    # Remove punctuation\n",
    "    cleaned_script = re.sub(r'[^\\w\\s]', ' ', cleaned_script).lower()\n",
    "    \n",
    "    return cleaned_script"
   ],
   "metadata": {
    "collapsed": false,
    "ExecuteTime": {
     "end_time": "2024-02-21T17:07:37.021714Z",
     "start_time": "2024-02-21T17:07:36.965032900Z"
    }
   },
   "id": "72064db523cf3bd3",
   "execution_count": 25
  },
  {
   "cell_type": "code",
   "outputs": [],
   "source": [
    "clean = clean_script(new_instance_script)"
   ],
   "metadata": {
    "collapsed": false,
    "ExecuteTime": {
     "end_time": "2024-02-21T17:07:37.022713300Z",
     "start_time": "2024-02-21T17:07:36.997706300Z"
    }
   },
   "id": "1603bdb4f3eefa00",
   "execution_count": 26
  },
  {
   "cell_type": "code",
   "outputs": [],
   "source": [
    "# clean"
   ],
   "metadata": {
    "collapsed": false,
    "ExecuteTime": {
     "end_time": "2024-02-21T17:07:37.060814500Z",
     "start_time": "2024-02-21T17:07:37.013642600Z"
    }
   },
   "id": "32781bc59bef40fb",
   "execution_count": 27
  },
  {
   "cell_type": "code",
   "outputs": [],
   "source": [
    "import pickle\n",
    "import pandas as pd\n",
    "\n",
    "# Load the TF-IDF vectorizer\n",
    "with open('vectorizer.pkl', 'rb') as file:\n",
    "    vectorizer = pickle.load(file)\n",
    "# Load the SelectKBest instance\n",
    "with open('selector.pkl', 'rb') as file:\n",
    "    selector = pickle.load(file)\n",
    "# Load the selected feature names DataFrame\n",
    "X_selected_df = pd.read_pickle('selected_features.pkl')\n",
    "# Assuming 'new_data' contains your new data\n",
    "# Apply the TF-IDF vectorizer to the new data\n",
    "X_tfidf = vectorizer.transform([clean])\n",
    "# Apply the loaded SelectKBest instance to the TF-IDF transformed data\n",
    "X_new_selected = selector.transform(X_tfidf)\n",
    "# Convert the selected features to a DataFrame using the previously selected feature names\n",
    "X_new_selected_df = pd.DataFrame(X_new_selected.toarray(), columns=X_selected_df.columns)"
   ],
   "metadata": {
    "collapsed": false,
    "ExecuteTime": {
     "end_time": "2024-02-21T17:07:37.824237300Z",
     "start_time": "2024-02-21T17:07:37.037784900Z"
    }
   },
   "id": "b6d13aa60b2c7562",
   "execution_count": 28
  },
  {
   "cell_type": "code",
   "outputs": [
    {
     "data": {
      "text/plain": "   0x00  0x00 0x00  0x00 0x00 0x00  0x00 0x00 0x60  0x00 0x00 0x68  0x00 0x10  \\\n0   0.0        0.0             0.0             0.0             0.0        0.0   \n\n   0x00 0x10 0x00  0x00 0x56  0x00 0x60  0x00 0x60 0x89  ...  wow64 trident  \\\n0             0.0        0.0        0.0             0.0  ...            0.0   \n\n   wow64 trident rv  write  write error  write host  write verbose  \\\n0               0.0    0.0          0.0         0.0            0.0   \n\n   write verbose message  yahoo  yahoo csrsv  yahoo csrsv exe  \n0                    0.0    0.0          0.0              0.0  \n\n[1 rows x 1000 columns]",
      "text/html": "<div>\n<style scoped>\n    .dataframe tbody tr th:only-of-type {\n        vertical-align: middle;\n    }\n\n    .dataframe tbody tr th {\n        vertical-align: top;\n    }\n\n    .dataframe thead th {\n        text-align: right;\n    }\n</style>\n<table border=\"1\" class=\"dataframe\">\n  <thead>\n    <tr style=\"text-align: right;\">\n      <th></th>\n      <th>0x00</th>\n      <th>0x00 0x00</th>\n      <th>0x00 0x00 0x00</th>\n      <th>0x00 0x00 0x60</th>\n      <th>0x00 0x00 0x68</th>\n      <th>0x00 0x10</th>\n      <th>0x00 0x10 0x00</th>\n      <th>0x00 0x56</th>\n      <th>0x00 0x60</th>\n      <th>0x00 0x60 0x89</th>\n      <th>...</th>\n      <th>wow64 trident</th>\n      <th>wow64 trident rv</th>\n      <th>write</th>\n      <th>write error</th>\n      <th>write host</th>\n      <th>write verbose</th>\n      <th>write verbose message</th>\n      <th>yahoo</th>\n      <th>yahoo csrsv</th>\n      <th>yahoo csrsv exe</th>\n    </tr>\n  </thead>\n  <tbody>\n    <tr>\n      <th>0</th>\n      <td>0.0</td>\n      <td>0.0</td>\n      <td>0.0</td>\n      <td>0.0</td>\n      <td>0.0</td>\n      <td>0.0</td>\n      <td>0.0</td>\n      <td>0.0</td>\n      <td>0.0</td>\n      <td>0.0</td>\n      <td>...</td>\n      <td>0.0</td>\n      <td>0.0</td>\n      <td>0.0</td>\n      <td>0.0</td>\n      <td>0.0</td>\n      <td>0.0</td>\n      <td>0.0</td>\n      <td>0.0</td>\n      <td>0.0</td>\n      <td>0.0</td>\n    </tr>\n  </tbody>\n</table>\n<p>1 rows × 1000 columns</p>\n</div>"
     },
     "execution_count": 29,
     "metadata": {},
     "output_type": "execute_result"
    }
   ],
   "source": [
    "X_new_selected_df"
   ],
   "metadata": {
    "collapsed": false,
    "ExecuteTime": {
     "end_time": "2024-02-21T17:07:37.890316Z",
     "start_time": "2024-02-21T17:07:37.839100Z"
    }
   },
   "id": "d90005ccbc304698",
   "execution_count": 29
  },
  {
   "cell_type": "code",
   "outputs": [],
   "source": [
    "# Function definitions (copied from your training notebook)\n",
    "def text_length(script):\n",
    "    return len(script)\n",
    "\n",
    "def entropy(script):\n",
    "    character_counts = Counter(script)\n",
    "    total_characters = len(script)\n",
    "    probabilities = [count / total_characters for count in character_counts.values()]\n",
    "    entropy_value = -sum(probability * math.log2(probability) for probability in probabilities)\n",
    "    return entropy_value\n",
    "\n",
    "def punctuation_count(script):\n",
    "    return len(re.findall(r'[^\\w\\s]', script))\n",
    "\n",
    "def function_count(script):\n",
    "    function_keywords = ['function', 'procedure']\n",
    "    return sum(script.count(keyword) for keyword in function_keywords)\n",
    "\n",
    "def numeric_literal_count(script):\n",
    "    return len(re.findall(r'\\b\\d+\\b', script))\n",
    "\n",
    "def string_literal_count(script):\n",
    "    return len(re.findall(r'\"([^\"]*)\"', script))\n",
    "\n",
    "def has_error_handling(script):\n",
    "    error_handling_keywords = ['try', 'except', 'catch']\n",
    "    return any(keyword in script for keyword in error_handling_keywords)\n",
    "\n",
    "def has_urls_or_ips(script):\n",
    "    return bool(re.search(r'http[s]?://(?:[a-zA-Z]|[0-9]|[$-_@.&+]|[!*\\\\(\\\\),]|(?:%[0-9a-fA-F][0-9a-fA-F]))+|\\d+\\.\\d+\\.\\d+\\.\\d+', script))\n",
    "\n",
    "def has_obfuscation_indicators(script):\n",
    "    obfuscation_patterns = [\n",
    "        r'\\b(?:\\w+\\s*\\+\\s*\\w+)',\n",
    "        r'\\b(?:[a-zA-Z]\\s*=\\s*[^;]*\\bchr\\s*\\(\\s*\\w+\\s*\\+\\s*\\d+\\s*\\)\\s*;\\s*)+',\n",
    "        r'0x[\\da-fA-F]+',\n",
    "        r'(?:\\\\x[0-9a-fA-F]{2}|\\\\u[0-9a-fA-F]{4}|\\\\U[0-9a-fA-F]{8})',\n",
    "        r'\\b(?:Add-Type|dllimport|virtualalloc|createthread|memset)\\b',\n",
    "        r'\\b(?:eval|exec|decode|encode|obfuscate)\\b'\n",
    "    ]\n",
    "    return any(re.search(pattern, script) for pattern in obfuscation_patterns)\n",
    "\n",
    "def has_suspicious_words(script):\n",
    "    disclosure_keywords = ['downloadfile','password', 'secret', 'key', 'token', 'downloadstring',\n",
    "                          'dllimport', 'programdata', 'new object', 'appdata']\n",
    "    return any(keyword in script for keyword in disclosure_keywords)\n",
    "\n",
    "def longest_string_length(script):\n",
    "    string_literals = re.findall(r'\"([^\"]*)\"', script)\n",
    "    if not string_literals:\n",
    "        return 0\n",
    "    longest_length = max(len(string_literal) for string_literal in string_literals)\n",
    "    return longest_length\n",
    "\n",
    "\n",
    "length = text_length(clean)\n",
    "ent = entropy(new_instance_script)\n",
    "punc_count = punctuation_count(new_instance_script)\n",
    "func_count = function_count(clean)\n",
    "num_lit_count = numeric_literal_count(clean)\n",
    "str_lit_count = string_literal_count(new_instance_script)\n",
    "err_handling = has_error_handling(clean)\n",
    "urls_ips = has_urls_or_ips(new_instance_script)\n",
    "obf_indicators = has_obfuscation_indicators(clean)\n",
    "suspicious_words = has_suspicious_words(clean)\n",
    "longest_str_length = longest_string_length(new_instance_script)\n",
    "\n",
    "# Create a DataFrame with the extracted features\n",
    "new_features = pd.DataFrame({\n",
    "    'text_length': [length],\n",
    "    'function_count': [func_count],\n",
    "    'numeric_literal_count': [num_lit_count],\n",
    "    'has_error_handling': [int(err_handling)], \n",
    "    'has_obfuscation_indicators': [int(obf_indicators)],\n",
    "    'has_suspicious_words': [int(suspicious_words)],  \n",
    "    \n",
    "    'Entropy': [ent],\n",
    "    'punctuation_count': [punc_count],\n",
    "    'longest_string_length': [longest_str_length],\n",
    "    'string_literal_count': [str_lit_count],\n",
    "    'has_urls_or_ips': [int(urls_ips)]       \n",
    "})\n",
    "\n",
    "# Concatenate the new features DataFrame with the existing DataFrame containing selected features\n",
    "X_new_selected_df_with_features = pd.concat([X_new_selected_df, new_features], axis=1)"
   ],
   "metadata": {
    "collapsed": false,
    "ExecuteTime": {
     "end_time": "2024-02-21T17:07:37.980535400Z",
     "start_time": "2024-02-21T17:07:37.891328900Z"
    }
   },
   "id": "7d49d9a3fba0dfea",
   "execution_count": 30
  },
  {
   "cell_type": "code",
   "outputs": [
    {
     "data": {
      "text/plain": "   0x00  0x00 0x00  0x00 0x00 0x00  0x00 0x00 0x60  0x00 0x00 0x68  0x00 0x10  \\\n0   0.0        0.0             0.0             0.0             0.0        0.0   \n\n   0x00 0x10 0x00  0x00 0x56  0x00 0x60  0x00 0x60 0x89  ...  function_count  \\\n0             0.0        0.0        0.0             0.0  ...               0   \n\n   numeric_literal_count  has_error_handling  has_obfuscation_indicators  \\\n0                      0                   0                           0   \n\n   has_suspicious_words   Entropy  punctuation_count  longest_string_length  \\\n0                     0  1.584963                  0                      0   \n\n   string_literal_count  has_urls_or_ips  \n0                     0                0  \n\n[1 rows x 1011 columns]",
      "text/html": "<div>\n<style scoped>\n    .dataframe tbody tr th:only-of-type {\n        vertical-align: middle;\n    }\n\n    .dataframe tbody tr th {\n        vertical-align: top;\n    }\n\n    .dataframe thead th {\n        text-align: right;\n    }\n</style>\n<table border=\"1\" class=\"dataframe\">\n  <thead>\n    <tr style=\"text-align: right;\">\n      <th></th>\n      <th>0x00</th>\n      <th>0x00 0x00</th>\n      <th>0x00 0x00 0x00</th>\n      <th>0x00 0x00 0x60</th>\n      <th>0x00 0x00 0x68</th>\n      <th>0x00 0x10</th>\n      <th>0x00 0x10 0x00</th>\n      <th>0x00 0x56</th>\n      <th>0x00 0x60</th>\n      <th>0x00 0x60 0x89</th>\n      <th>...</th>\n      <th>function_count</th>\n      <th>numeric_literal_count</th>\n      <th>has_error_handling</th>\n      <th>has_obfuscation_indicators</th>\n      <th>has_suspicious_words</th>\n      <th>Entropy</th>\n      <th>punctuation_count</th>\n      <th>longest_string_length</th>\n      <th>string_literal_count</th>\n      <th>has_urls_or_ips</th>\n    </tr>\n  </thead>\n  <tbody>\n    <tr>\n      <th>0</th>\n      <td>0.0</td>\n      <td>0.0</td>\n      <td>0.0</td>\n      <td>0.0</td>\n      <td>0.0</td>\n      <td>0.0</td>\n      <td>0.0</td>\n      <td>0.0</td>\n      <td>0.0</td>\n      <td>0.0</td>\n      <td>...</td>\n      <td>0</td>\n      <td>0</td>\n      <td>0</td>\n      <td>0</td>\n      <td>0</td>\n      <td>1.584963</td>\n      <td>0</td>\n      <td>0</td>\n      <td>0</td>\n      <td>0</td>\n    </tr>\n  </tbody>\n</table>\n<p>1 rows × 1011 columns</p>\n</div>"
     },
     "execution_count": 31,
     "metadata": {},
     "output_type": "execute_result"
    }
   ],
   "source": [
    "X_new_selected_df_with_features"
   ],
   "metadata": {
    "collapsed": false,
    "ExecuteTime": {
     "end_time": "2024-02-21T17:07:38.032763Z",
     "start_time": "2024-02-21T17:07:37.956057500Z"
    }
   },
   "id": "ec7aefa5bfa446b3",
   "execution_count": 31
  },
  {
   "cell_type": "code",
   "outputs": [],
   "source": [
    "# Load the trained model\n",
    "with open('model.pkl', 'rb') as file:\n",
    "    model = pickle.load(file)\n",
    "\n",
    "# Use the model to make predictions\n",
    "predicted_label = model.predict(X_new_selected_df_with_features)"
   ],
   "metadata": {
    "collapsed": false,
    "ExecuteTime": {
     "end_time": "2024-02-21T17:07:38.226881700Z",
     "start_time": "2024-02-21T17:07:37.969331100Z"
    }
   },
   "id": "ba5a67268988b763",
   "execution_count": 32
  },
  {
   "cell_type": "code",
   "outputs": [
    {
     "name": "stdout",
     "output_type": "stream",
     "text": [
      "Benign\n"
     ]
    }
   ],
   "source": [
    "if predicted_label[0] == 0:\n",
    "    print(\"Malicious\")\n",
    "else:\n",
    "    print(\"Benign\")"
   ],
   "metadata": {
    "collapsed": false,
    "ExecuteTime": {
     "end_time": "2024-02-21T17:07:38.239883500Z",
     "start_time": "2024-02-21T17:07:38.172538Z"
    }
   },
   "id": "6adf4094dd55baab",
   "execution_count": 33
  },
  {
   "cell_type": "code",
   "outputs": [],
   "source": [],
   "metadata": {
    "collapsed": false,
    "ExecuteTime": {
     "end_time": "2024-02-21T17:07:38.298052700Z",
     "start_time": "2024-02-21T17:07:38.188588800Z"
    }
   },
   "id": "8727651197985919",
   "execution_count": 33
  },
  {
   "cell_type": "code",
   "outputs": [],
   "source": [],
   "metadata": {
    "collapsed": false,
    "ExecuteTime": {
     "end_time": "2024-02-21T17:07:38.299175500Z",
     "start_time": "2024-02-21T17:07:38.204882Z"
    }
   },
   "id": "5058b9ebb4fc4048",
   "execution_count": 33
  },
  {
   "cell_type": "code",
   "outputs": [],
   "source": [],
   "metadata": {
    "collapsed": false,
    "ExecuteTime": {
     "end_time": "2024-02-21T17:07:38.315986100Z",
     "start_time": "2024-02-21T17:07:38.218881200Z"
    }
   },
   "id": "1d8d9067b8e37f2d",
   "execution_count": 33
  },
  {
   "cell_type": "code",
   "outputs": [],
   "source": [],
   "metadata": {
    "collapsed": false,
    "ExecuteTime": {
     "end_time": "2024-02-21T17:07:38.319212800Z",
     "start_time": "2024-02-21T17:07:38.234881200Z"
    }
   },
   "id": "74ba408eb47c6d4a",
   "execution_count": 33
  },
  {
   "cell_type": "code",
   "outputs": [],
   "source": [],
   "metadata": {
    "collapsed": false,
    "ExecuteTime": {
     "end_time": "2024-02-21T17:07:38.320291200Z",
     "start_time": "2024-02-21T17:07:38.249881800Z"
    }
   },
   "id": "8977ba51b4839022",
   "execution_count": 33
  }
 ],
 "metadata": {
  "kernelspec": {
   "display_name": "Python 3",
   "language": "python",
   "name": "python3"
  },
  "language_info": {
   "codemirror_mode": {
    "name": "ipython",
    "version": 2
   },
   "file_extension": ".py",
   "mimetype": "text/x-python",
   "name": "python",
   "nbconvert_exporter": "python",
   "pygments_lexer": "ipython2",
   "version": "2.7.6"
  }
 },
 "nbformat": 4,
 "nbformat_minor": 5
}
